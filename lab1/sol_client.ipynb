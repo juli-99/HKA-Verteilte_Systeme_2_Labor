{
 "cells": [
  {
   "cell_type": "markdown",
   "source": [
    "Importiere <i>sol_clientserver</i>, welches die Implementierung vom <i>client</i> enthält."
   ],
   "metadata": {
    "collapsed": false
   },
   "id": "5b12ae6f9a9f5bb8"
  },
  {
   "cell_type": "code",
   "execution_count": 1,
   "outputs": [],
   "source": [
    "import sol_clientserver"
   ],
   "metadata": {
    "collapsed": false,
    "ExecuteTime": {
     "end_time": "2023-10-19T12:20:25.405131400Z",
     "start_time": "2023-10-19T12:20:25.217413400Z"
    }
   },
   "id": "76f919b4cbafb659"
  },
  {
   "cell_type": "markdown",
   "source": [
    "Erstelle eine <i>client</i> Instanz "
   ],
   "metadata": {
    "collapsed": false
   },
   "id": "6b2b176e201a3333"
  },
  {
   "cell_type": "code",
   "execution_count": 2,
   "outputs": [
    {
     "name": "stderr",
     "output_type": "stream",
     "text": [
      "2023-10-19 14:20:34,358 - vs2lab.sol.sol_clientserver.Client - INFO - Client created\n",
      "2023-10-19 14:20:34,364 - vs2lab.sol.sol_clientserver.Client - INFO - Client connected to socket <socket.socket fd=1704, family=2, type=1, proto=0, laddr=('127.0.0.1', 50317), raddr=('127.0.0.1', 50007)>\n"
     ]
    }
   ],
   "source": [
    "client = sol_clientserver.Client()"
   ],
   "metadata": {
    "collapsed": false,
    "ExecuteTime": {
     "end_time": "2023-10-19T12:20:34.377407700Z",
     "start_time": "2023-10-19T12:20:34.355208400Z"
    }
   },
   "id": "2dbc677233f2f780"
  },
  {
   "cell_type": "markdown",
   "source": [
    "Verwende <b>GET</b> um einen Eintrag aus dem Telefonbuch abzufragen."
   ],
   "metadata": {
    "collapsed": false
   },
   "id": "8f363735e9a3e11e"
  },
  {
   "cell_type": "code",
   "execution_count": 3,
   "outputs": [
    {
     "name": "stderr",
     "output_type": "stream",
     "text": [
      "2023-10-19 14:20:37,334 - vs2lab.sol.sol_clientserver.Client - INFO - Call GET:Philip via <socket.socket fd=1704, family=2, type=1, proto=0, laddr=('127.0.0.1', 50317), raddr=('127.0.0.1', 50007)>\n",
      "2023-10-19 14:20:37,338 - vs2lab.sol.sol_clientserver.Client - INFO - Received 1 entry\n"
     ]
    },
    {
     "name": "stdout",
     "output_type": "stream",
     "text": [
      "12345678901\n"
     ]
    },
    {
     "data": {
      "text/plain": "'12345678901'"
     },
     "execution_count": 3,
     "metadata": {},
     "output_type": "execute_result"
    }
   ],
   "source": [
    "client.get('Philip')"
   ],
   "metadata": {
    "collapsed": false,
    "ExecuteTime": {
     "end_time": "2023-10-19T12:20:37.367073700Z",
     "start_time": "2023-10-19T12:20:37.335062800Z"
    }
   },
   "id": "54692669b6353afa"
  },
  {
   "cell_type": "markdown",
   "source": [
    "Verwende <b>GET_ALL</b> um alle Einträge aus dem Telefonbuch abzufragen."
   ],
   "metadata": {
    "collapsed": false
   },
   "id": "335b040e18b23cb6"
  },
  {
   "cell_type": "code",
   "execution_count": 4,
   "outputs": [
    {
     "name": "stderr",
     "output_type": "stream",
     "text": [
      "2023-10-19 14:20:39,433 - vs2lab.sol.sol_clientserver.Client - INFO - Call GET_ALL via <socket.socket fd=1704, family=2, type=1, proto=0, laddr=('127.0.0.1', 50317), raddr=('127.0.0.1', 50007)>\n",
      "2023-10-19 14:20:39,439 - vs2lab.sol.sol_clientserver.Client - INFO - Received 2 entries\n"
     ]
    },
    {
     "name": "stdout",
     "output_type": "stream",
     "text": [
      "Philip : 12345678901\n",
      "Julian : 23456789012\n"
     ]
    },
    {
     "data": {
      "text/plain": "'Philip : 12345678901\\nJulian : 23456789012\\n'"
     },
     "execution_count": 4,
     "metadata": {},
     "output_type": "execute_result"
    }
   ],
   "source": [
    "client.get_all()"
   ],
   "metadata": {
    "collapsed": false,
    "ExecuteTime": {
     "end_time": "2023-10-19T12:20:39.476848300Z",
     "start_time": "2023-10-19T12:20:39.433249100Z"
    }
   },
   "id": "7062741d3719e247"
  },
  {
   "cell_type": "markdown",
   "source": [
    "Schließe die Verbindung des <i>client</i>, wenn diese nicht mehr benötigt wird"
   ],
   "metadata": {
    "collapsed": false
   },
   "id": "10a96af0dcb6c9e5"
  },
  {
   "cell_type": "code",
   "execution_count": 5,
   "outputs": [
    {
     "name": "stderr",
     "output_type": "stream",
     "text": [
      "2023-10-19 14:20:41,313 - vs2lab.sol.sol_clientserver.Client - INFO - Client down.\n"
     ]
    }
   ],
   "source": [
    "client.close()"
   ],
   "metadata": {
    "collapsed": false,
    "ExecuteTime": {
     "end_time": "2023-10-19T12:20:41.332189500Z",
     "start_time": "2023-10-19T12:20:41.313296800Z"
    }
   },
   "id": "e1cde4d9a197ad0a"
  },
  {
   "cell_type": "markdown",
   "source": [],
   "metadata": {
    "collapsed": false
   },
   "id": "df99620caa441bcf"
  }
 ],
 "metadata": {
  "kernelspec": {
   "display_name": "Python 3",
   "language": "python",
   "name": "python3"
  },
  "language_info": {
   "codemirror_mode": {
    "name": "ipython",
    "version": 2
   },
   "file_extension": ".py",
   "mimetype": "text/x-python",
   "name": "python",
   "nbconvert_exporter": "python",
   "pygments_lexer": "ipython2",
   "version": "2.7.6"
  }
 },
 "nbformat": 4,
 "nbformat_minor": 5
}
