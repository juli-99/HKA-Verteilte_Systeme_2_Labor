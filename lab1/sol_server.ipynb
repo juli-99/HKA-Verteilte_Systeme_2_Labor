{
 "cells": [
  {
   "cell_type": "markdown",
   "source": [
    "Importiere <i>sol_clientserver</i>, welches die Implementierung des <i>servers</i> enthält."
   ],
   "metadata": {
    "collapsed": false
   },
   "id": "78c17f072e7e7660"
  },
  {
   "cell_type": "code",
   "execution_count": 1,
   "outputs": [],
   "source": [
    "import sol_clientserver"
   ],
   "metadata": {
    "collapsed": false,
    "ExecuteTime": {
     "end_time": "2023-10-19T12:20:23.775387Z",
     "start_time": "2023-10-19T12:20:23.569515900Z"
    }
   },
   "id": "14338145e9ae77fb"
  },
  {
   "cell_type": "markdown",
   "source": [
    "Erstelle eine <i>server</i> Instanz."
   ],
   "metadata": {
    "collapsed": false
   },
   "id": "18e2d2b33e1b5b44"
  },
  {
   "cell_type": "code",
   "execution_count": 2,
   "outputs": [
    {
     "name": "stderr",
     "output_type": "stream",
     "text": [
      "2023-10-19 14:20:25,323 - vs2lab.sol.sol_clientserver.Server - INFO - Server created\n",
      "2023-10-19 14:20:25,326 - vs2lab.sol.sol_clientserver.Server - INFO - Server bound to socket <socket.socket fd=1208, family=2, type=1, proto=0, laddr=('127.0.0.1', 50007)>\n"
     ]
    }
   ],
   "source": [
    "server = sol_clientserver.Server()\n",
    "\n",
    "#data = dict()\n",
    "#data.update({'assa' : 123432543672})\n",
    "#server = sol_clientserver.Server(dict=data)"
   ],
   "metadata": {
    "collapsed": false,
    "ExecuteTime": {
     "end_time": "2023-10-19T12:20:25.336393Z",
     "start_time": "2023-10-19T12:20:25.323842Z"
    }
   },
   "id": "11288d741535b2ad"
  },
  {
   "cell_type": "markdown",
   "source": [
    "Füge Eintrage in das Telefonbuch ein."
   ],
   "metadata": {
    "collapsed": false
   },
   "id": "630e8ae045963ff8"
  },
  {
   "cell_type": "code",
   "execution_count": 3,
   "outputs": [
    {
     "name": "stderr",
     "output_type": "stream",
     "text": [
      "2023-10-19 14:20:27,462 - vs2lab.sol.sol_clientserver.Server - INFO - added entry (Philip, 12345678901)\n",
      "2023-10-19 14:20:27,462 - vs2lab.sol.sol_clientserver.Server - INFO - added entry (Julian, 23456789012)\n"
     ]
    }
   ],
   "source": [
    "server.add_entry('Philip', 12345678901)\n",
    "server.add_entry('Julian', 23456789012)"
   ],
   "metadata": {
    "collapsed": false,
    "ExecuteTime": {
     "end_time": "2023-10-19T12:20:27.542434300Z",
     "start_time": "2023-10-19T12:20:27.478557800Z"
    }
   },
   "id": "b3c22446e6bed677"
  },
  {
   "cell_type": "markdown",
   "source": [
    "Starte den Server"
   ],
   "metadata": {
    "collapsed": false
   },
   "id": "876dfe9a4496338a"
  },
  {
   "cell_type": "code",
   "execution_count": null,
   "outputs": [
    {
     "name": "stderr",
     "output_type": "stream",
     "text": [
      "2023-10-19 14:20:29,652 - vs2lab.sol.sol_clientserver.Server - INFO - Server started\n",
      "2023-10-19 14:20:37,334 - vs2lab.sol.sol_clientserver.Server - INFO - GET Philip requested via <socket.socket fd=1208, family=2, type=1, proto=0, laddr=('127.0.0.1', 50007)>\n",
      "2023-10-19 14:20:37,336 - vs2lab.sol.sol_clientserver.Server - INFO - Sent 1 entry\n",
      "2023-10-19 14:20:39,433 - vs2lab.sol.sol_clientserver.Server - INFO - GET ALL requested via <socket.socket fd=1208, family=2, type=1, proto=0, laddr=('127.0.0.1', 50007)>\n",
      "2023-10-19 14:20:39,438 - vs2lab.sol.sol_clientserver.Server - INFO - Sent 2 entries\n"
     ]
    }
   ],
   "source": [
    "server.serve()"
   ],
   "metadata": {
    "collapsed": false,
    "is_executing": true,
    "ExecuteTime": {
     "start_time": "2023-10-19T12:20:29.658162200Z"
    }
   },
   "id": "183cb43845c3b685"
  }
 ],
 "metadata": {
  "kernelspec": {
   "display_name": "Python 3",
   "language": "python",
   "name": "python3"
  },
  "language_info": {
   "codemirror_mode": {
    "name": "ipython",
    "version": 2
   },
   "file_extension": ".py",
   "mimetype": "text/x-python",
   "name": "python",
   "nbconvert_exporter": "python",
   "pygments_lexer": "ipython2",
   "version": "2.7.6"
  }
 },
 "nbformat": 4,
 "nbformat_minor": 5
}
